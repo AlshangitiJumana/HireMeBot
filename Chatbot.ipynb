{
 "cells": [
  {
   "cell_type": "markdown",
   "id": "d0bb1bd1",
   "metadata": {},
   "source": [
    "<div style=\"background-color:rgb(223, 119, 160); padding: 30px; border-radius: 20px; box-shadow: 0 4px 15px rgba(255, 105, 180, 0.3); color: #F8BBD0; font-family: 'Times New Roman', serif;\">\n",
    "\n",
    "<h1 style=\"text-align: center; font-size: 38px; color: white; font-weight: bold;\">🎀 Deploy The Chatbots 🎀</h1>\n"
   ]
  },
  {
   "cell_type": "code",
   "execution_count": null,
   "id": "609f8639",
   "metadata": {},
   "outputs": [],
   "source": [
    "from transformers import AutoModelForCausalLM, AutoTokenizer\n",
    "import torch\n",
    "\n",
    "# Load fine-tuned model and tokenizer\n",
    "model_path = \"./interview_model\"\n",
    "tokenizer = AutoTokenizer.from_pretrained(model_path)\n",
    "model = AutoModelForCausalLM.from_pretrained(model_path)\n",
    "\n",
    "# Set device\n",
    "device = torch.device(\"cuda\" if torch.cuda.is_available() else \"cpu\")\n",
    "model.to(device)\n",
    "model.eval()\n",
    "\n",
    "def chat():\n",
    "    print(\"🤖 Chatbot is ready! Type 'exit' to quit.\")\n",
    "    while True:\n",
    "        user_input = input(\"You: \")\n",
    "        if user_input.lower() == \"exit\":\n",
    "            break\n",
    "\n",
    "        prompt = f\"<|startoftext|>\\n### Question:\\n{user_input}\\n\\n### Answer:\\n\"\n",
    "        inputs = tokenizer(prompt, return_tensors=\"pt\").to(device)\n",
    "\n",
    "        output = model.generate(\n",
    "            **inputs,\n",
    "            max_new_tokens=100,\n",
    "            temperature=0.7,\n",
    "            top_p=0.9,\n",
    "            repetition_penalty=1.2,\n",
    "            pad_token_id=tokenizer.eos_token_id\n",
    "        )\n",
    "\n",
    "        answer = tokenizer.decode(output[0], skip_special_tokens=True)\n",
    "        answer_only = answer.split(\"### Answer:\")[-1].strip()\n",
    "        print(f\"Bot: {answer_only}\\n\")\n",
    "\n",
    "chat()"
   ]
  }
 ],
 "metadata": {
  "language_info": {
   "name": "python"
  }
 },
 "nbformat": 4,
 "nbformat_minor": 5
}
